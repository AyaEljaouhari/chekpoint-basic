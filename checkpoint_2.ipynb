{
  "nbformat": 4,
  "nbformat_minor": 0,
  "metadata": {
    "colab": {
      "provenance": []
    },
    "kernelspec": {
      "name": "python3",
      "display_name": "Python 3"
    },
    "language_info": {
      "name": "python"
    }
  },
  "cells": [
    {
      "cell_type": "code",
      "source": [
        "fname = input(\"Input your First Name : \")\n",
        "lname = input(\"Input your Last Name : \")\n",
        "print (\"Hello \" + lname + \" \" + fname)"
      ],
      "metadata": {
        "colab": {
          "base_uri": "https://localhost:8080/"
        },
        "id": "jpRhlpi9sMg4",
        "outputId": "d47f5ae9-220c-4c49-ab88-9fcf44ba7d28"
      },
      "execution_count": null,
      "outputs": [
        {
          "output_type": "stream",
          "name": "stdout",
          "text": [
            "Input your First Name : aya\n",
            "Input your Last Name : eljaouhari\n",
            "Hello eljaouhari aya\n"
          ]
        }
      ]
    },
    {
      "cell_type": "code",
      "source": [
        "1 a = int(input(\"5 : \"))\n",
        "2   n1 = int( \"%s\" % a )\n",
        "3   n2 = int( \"%s%s\" % (a,a) )\n",
        "4   n3 = int( \"%s%s%s\" % (a,a,a) )\n",
        "5   print (n1+n2+n3)"
      ],
      "metadata": {
        "id": "Tn9cNeQS-pb7"
      },
      "execution_count": null,
      "outputs": []
    },
    {
      "cell_type": "code",
      "source": [
        "n = '5'\n",
        "sum_n = 0\n",
        "n_itr = ''\n",
        "for i in range(3):\n",
        "    n_itr = n_itr + n\n",
        "    print('printing n_itr', n_itr, type(n_itr))\n",
        "    sum_n = int(sum_n) + int(n_itr)\n",
        "    print('printing sum_n ', sum_n)"
      ],
      "metadata": {
        "colab": {
          "base_uri": "https://localhost:8080/"
        },
        "id": "89DZCIclbVc3",
        "outputId": "671a5aa7-6086-4162-8a1a-bccfeb91df25"
      },
      "execution_count": null,
      "outputs": [
        {
          "output_type": "stream",
          "name": "stdout",
          "text": [
            "printing n_itr 5 <class 'str'>\n",
            "printing sum_n  5\n",
            "printing n_itr 55 <class 'str'>\n",
            "printing sum_n  60\n",
            "printing n_itr 555 <class 'str'>\n",
            "printing sum_n  615\n"
          ]
        }
      ]
    },
    {
      "cell_type": "code",
      "source": [
        "num = int(input(\"Enter any number: \"))\n",
        "mod = num % 2\n",
        "if mod > 0:\n",
        "    print(\"This is an odd number.\")\n",
        "else:\n",
        "    print(\"This is an even number.\")"
      ],
      "metadata": {
        "colab": {
          "base_uri": "https://localhost:8080/"
        },
        "id": "kdmW1Ilbdgbu",
        "outputId": "daec46f2-bfa2-4c17-e907-40470be4d22a"
      },
      "execution_count": null,
      "outputs": [
        {
          "output_type": "stream",
          "name": "stdout",
          "text": [
            "Enter any number: 4\n",
            "This is an even number.\n"
          ]
        }
      ]
    },
    {
      "cell_type": "code",
      "source": [
        "For i in range(2000,3201,1): \n",
        "#This will start the loop from 2000 till 3200 because the range function goes till x-1 (In this case 3201 - 1)\n",
        "\n",
        "if i%7==0 and i%5!=0:\n",
        "\n",
        "print(i)"
      ],
      "metadata": {
        "id": "sD6Fxt6cdxYG",
        "colab": {
          "base_uri": "https://localhost:8080/",
          "height": 149
        },
        "outputId": "97c17dd8-a73b-49b1-dd27-24199ddb48d5"
      },
      "execution_count": null,
      "outputs": [
        {
          "output_type": "error",
          "ename": "SyntaxError",
          "evalue": "ignored",
          "traceback": [
            "\u001b[0;36m  File \u001b[0;32m\"<ipython-input-25-4296f5ee0835>\"\u001b[0;36m, line \u001b[0;32m1\u001b[0m\n\u001b[0;31m    For i in range(2000,3201,1):\u001b[0m\n\u001b[0m        ^\u001b[0m\n\u001b[0;31mSyntaxError\u001b[0m\u001b[0;31m:\u001b[0m invalid syntax\n"
          ]
        }
      ]
    },
    {
      "cell_type": "code",
      "source": [
        "\n",
        "\n",
        "# change the value for a different result\n",
        "num = 8\n",
        "\n",
        "# To take input from the user\n",
        "#num = int(input(\"Enter a number: \"))\n",
        "\n",
        "factorial = 1\n",
        "\n",
        "# check if the number is negative, positive or zero\n",
        "if num < 0:\n",
        "   print(\"Sorry, factorial does not exist for negative numbers\")\n",
        "elif num == 0:\n",
        "   print(\"The factorial of 0 is 1\")\n",
        "else:\n",
        "   for i in range(1,num + 1):\n",
        "       factorial = factorial*i\n",
        "   print(\"The factorial of\",num,\"is\",factorial)"
      ],
      "metadata": {
        "id": "0cAM6W0fsuKV",
        "colab": {
          "base_uri": "https://localhost:8080/"
        },
        "outputId": "6824457f-01d1-4a26-f9b0-670606c650af"
      },
      "execution_count": null,
      "outputs": [
        {
          "output_type": "stream",
          "name": "stdout",
          "text": [
            "The factorial of 8 is 40320\n"
          ]
        }
      ]
    },
    {
      "cell_type": "code",
      "source": [
        "str1 = input(\"Please Enter your Own String : \")\n",
        "\n",
        "str2 = ''\n",
        "\n",
        "for i in range(len(str1)):\n",
        "    if(i % 2 == 0):\n",
        "        str2 = str2 + str1[i]\n",
        "        \n",
        "print(\"Original String :  \", str1)\n",
        "print(\"Final String :     \", str2)"
      ],
      "metadata": {
        "id": "AiC173a91kiT",
        "colab": {
          "base_uri": "https://localhost:8080/"
        },
        "outputId": "e79f253f-1415-499f-c3df-671c63236044"
      },
      "execution_count": null,
      "outputs": [
        {
          "output_type": "stream",
          "name": "stdout",
          "text": [
            "Please Enter your Own String : hello team\n",
            "Original String :   hello team\n",
            "Final String :      hlota\n"
          ]
        }
      ]
    },
    {
      "cell_type": "code",
      "source": [],
      "metadata": {
        "id": "4BUYdZUc2TyA"
      },
      "execution_count": null,
      "outputs": []
    }
  ]
}